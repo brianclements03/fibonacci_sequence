{
 "cells": [
  {
   "cell_type": "code",
   "execution_count": 17,
   "id": "7c55367c",
   "metadata": {},
   "outputs": [],
   "source": [
    "import numpy as np\n",
    "from collections import Counter\n",
    "import pandas as pd"
   ]
  },
  {
   "cell_type": "code",
   "execution_count": 18,
   "id": "310763d6",
   "metadata": {},
   "outputs": [],
   "source": [
    "fruits = ['apple', 'banana', 'orange', 'pineapple', 'apple']"
   ]
  },
  {
   "cell_type": "code",
   "execution_count": 23,
   "id": "4b8f2570",
   "metadata": {},
   "outputs": [
    {
     "data": {
      "text/plain": [
       "['apple', 'banana', 'orange', 'pineapple', 'apple']"
      ]
     },
     "execution_count": 23,
     "metadata": {},
     "output_type": "execute_result"
    }
   ],
   "source": [
    "fruits"
   ]
  },
  {
   "cell_type": "code",
   "execution_count": 4,
   "id": "85de2c7a",
   "metadata": {},
   "outputs": [],
   "source": [
    "c=Counter(fruits)"
   ]
  },
  {
   "cell_type": "code",
   "execution_count": 5,
   "id": "148cf33e",
   "metadata": {},
   "outputs": [
    {
     "data": {
      "text/plain": [
       "2"
      ]
     },
     "execution_count": 5,
     "metadata": {},
     "output_type": "execute_result"
    }
   ],
   "source": [
    "c['apple']"
   ]
  },
  {
   "cell_type": "markdown",
   "id": "83c7ea5d",
   "metadata": {},
   "source": [
    "- use regex to return the total number of times 'apple' appears (including in pinapple)"
   ]
  },
  {
   "cell_type": "code",
   "execution_count": 6,
   "id": "20e980bf",
   "metadata": {},
   "outputs": [],
   "source": [
    "import re"
   ]
  },
  {
   "cell_type": "code",
   "execution_count": 7,
   "id": "5552a17b",
   "metadata": {},
   "outputs": [
    {
     "ename": "NameError",
     "evalue": "name 'r' is not defined",
     "output_type": "error",
     "traceback": [
      "\u001b[0;31m---------------------------------------------------------------------------\u001b[0m",
      "\u001b[0;31mNameError\u001b[0m                                 Traceback (most recent call last)",
      "\u001b[0;32m<ipython-input-7-69bf4a7cc851>\u001b[0m in \u001b[0;36m<module>\u001b[0;34m\u001b[0m\n\u001b[0;32m----> 1\u001b[0;31m \u001b[0mr\u001b[0m\u001b[0;34m^\u001b[0m\u001b[0;34m'.*[apple]?'\u001b[0m\u001b[0;34m\u001b[0m\u001b[0;34m\u001b[0m\u001b[0m\n\u001b[0m",
      "\u001b[0;31mNameError\u001b[0m: name 'r' is not defined"
     ]
    }
   ],
   "source": [
    "r^'.*[apple]?'"
   ]
  },
  {
   "cell_type": "code",
   "execution_count": 46,
   "id": "e30692ef",
   "metadata": {},
   "outputs": [
    {
     "data": {
      "text/plain": [
       "['apple banana orange pineapple apple']"
      ]
     },
     "execution_count": 46,
     "metadata": {},
     "output_type": "execute_result"
    }
   ],
   "source": [
    "re.findall(r\"^.*apple.*\",' '.join(fruits))"
   ]
  },
  {
   "cell_type": "code",
   "execution_count": 50,
   "id": "e4bdadd3",
   "metadata": {
    "scrolled": true
   },
   "outputs": [
    {
     "data": {
      "text/plain": [
       "'apple banana orange pineapple apple'"
      ]
     },
     "execution_count": 50,
     "metadata": {},
     "output_type": "execute_result"
    }
   ],
   "source": [
    "' '.join(str(e) for e in fruits)"
   ]
  },
  {
   "cell_type": "code",
   "execution_count": 52,
   "id": "d5bbf850",
   "metadata": {},
   "outputs": [
    {
     "data": {
      "text/plain": [
       "'apple banana orange pineapple apple'"
      ]
     },
     "execution_count": 52,
     "metadata": {},
     "output_type": "execute_result"
    }
   ],
   "source": [
    "makeitastring = ' '.join(map(str, fruits))\n",
    "makeitastring"
   ]
  },
  {
   "cell_type": "code",
   "execution_count": 47,
   "id": "0d91ffd4",
   "metadata": {},
   "outputs": [
    {
     "data": {
      "text/plain": [
       "['apple banana orange pineapple apple']"
      ]
     },
     "execution_count": 47,
     "metadata": {},
     "output_type": "execute_result"
    }
   ],
   "source": [
    "re.findall(r\"^.*apple.*\",' '.join(str(e) for e in fruits))"
   ]
  },
  {
   "cell_type": "code",
   "execution_count": 29,
   "id": "ae6291a7",
   "metadata": {},
   "outputs": [
    {
     "name": "stdout",
     "output_type": "stream",
     "text": [
      "apple\n",
      "pineapple\n",
      "apple\n"
     ]
    }
   ],
   "source": [
    "for fruit in fruits:\n",
    "    if re.search(r\"^.*apple.*\",fruit):\n",
    "        print(fruit)\n",
    "    "
   ]
  },
  {
   "cell_type": "code",
   "execution_count": 41,
   "id": "7363e0e4",
   "metadata": {},
   "outputs": [
    {
     "name": "stdout",
     "output_type": "stream",
     "text": [
      "3\n"
     ]
    }
   ],
   "source": [
    "count = 0\n",
    "for fruit in fruits:\n",
    "#     count = 0\n",
    "    if re.search(r\"^.*apple.*\",fruit):\n",
    "        count += 1\n",
    "print(count)\n",
    "    "
   ]
  },
  {
   "cell_type": "code",
   "execution_count": null,
   "id": "631953de",
   "metadata": {},
   "outputs": [],
   "source": []
  }
 ],
 "metadata": {
  "kernelspec": {
   "display_name": "Python 3",
   "language": "python",
   "name": "python3"
  },
  "language_info": {
   "codemirror_mode": {
    "name": "ipython",
    "version": 3
   },
   "file_extension": ".py",
   "mimetype": "text/x-python",
   "name": "python",
   "nbconvert_exporter": "python",
   "pygments_lexer": "ipython3",
   "version": "3.8.8"
  }
 },
 "nbformat": 4,
 "nbformat_minor": 5
}

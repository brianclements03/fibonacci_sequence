{
 "cells": [
  {
   "cell_type": "markdown",
   "id": "d5dac695",
   "metadata": {},
   "source": [
    "# Another hackerrank challenge: return the first unique character in a string"
   ]
  },
  {
   "cell_type": "code",
   "execution_count": 50,
   "id": "55d1ad5d",
   "metadata": {},
   "outputs": [],
   "source": [
    "import pandas as pd\n",
    "import numpy as np\n",
    "from collections import Counter"
   ]
  },
  {
   "cell_type": "code",
   "execution_count": 31,
   "id": "24679195",
   "metadata": {},
   "outputs": [
    {
     "name": "stdout",
     "output_type": "stream",
     "text": [
      "Counter({'a': 2, 'e': 2, 'p': 1, 'o': 1, 'i': 1, 'n': 1, 's': 1})\n"
     ]
    }
   ],
   "source": [
    "example = 'apoienase'\n",
    "c=Counter(example)\n",
    "print(c)"
   ]
  },
  {
   "cell_type": "code",
   "execution_count": 160,
   "id": "cc40dc35",
   "metadata": {},
   "outputs": [],
   "source": [
    "def first_unique(s):\n",
    "    c = Counter(s)\n",
    "    temp_list = []\n",
    "    for x in c:\n",
    "        temp_list.append(c[x])\n",
    "    if min(temp_list) > 1:\n",
    "        print('no unique characters')\n",
    "    else:\n",
    "        for x in c:\n",
    "            if c[x] >  1:\n",
    "                continue\n",
    "            elif c[x]==1:\n",
    "                return x\n",
    "            "
   ]
  },
  {
   "cell_type": "code",
   "execution_count": 161,
   "id": "e0f85680",
   "metadata": {},
   "outputs": [
    {
     "data": {
      "text/plain": [
       "'p'"
      ]
     },
     "execution_count": 161,
     "metadata": {},
     "output_type": "execute_result"
    }
   ],
   "source": [
    "first_unique(example)"
   ]
  },
  {
   "cell_type": "code",
   "execution_count": 162,
   "id": "63fb26c4",
   "metadata": {},
   "outputs": [
    {
     "data": {
      "text/plain": [
       "'h'"
      ]
     },
     "execution_count": 162,
     "metadata": {},
     "output_type": "execute_result"
    }
   ],
   "source": [
    "first_unique('aaeeiioouuoih')"
   ]
  },
  {
   "cell_type": "code",
   "execution_count": 163,
   "id": "77dafbae",
   "metadata": {},
   "outputs": [
    {
     "name": "stdout",
     "output_type": "stream",
     "text": [
      "no unique characters\n"
     ]
    }
   ],
   "source": [
    "first_unique('aaeeiioouu')"
   ]
  },
  {
   "cell_type": "markdown",
   "id": "d4aebc65",
   "metadata": {},
   "source": [
    "## OK, cracked it.  But...hackerrank REALLY wanted it optimized. So that would be the next step in this challenge"
   ]
  },
  {
   "cell_type": "code",
   "execution_count": 165,
   "id": "f8b1cf53",
   "metadata": {},
   "outputs": [
    {
     "data": {
      "text/plain": [
       "'u'"
      ]
     },
     "execution_count": 165,
     "metadata": {},
     "output_type": "execute_result"
    }
   ],
   "source": [
    "first_unique('in a midsummer nights dream')"
   ]
  },
  {
   "cell_type": "code",
   "execution_count": 166,
   "id": "5238fa64",
   "metadata": {},
   "outputs": [
    {
     "data": {
      "text/plain": [
       "' '"
      ]
     },
     "execution_count": 166,
     "metadata": {},
     "output_type": "execute_result"
    }
   ],
   "source": [
    "first_unique('in amidsummernightsdream')"
   ]
  },
  {
   "cell_type": "markdown",
   "id": "11fdb123",
   "metadata": {},
   "source": [
    "- there i found a minor glitch--i might want to join all the words in the string to avoid an individual space being considered a unique character. But the function is working just fine, this would not be necessary depending on how you wanted it to run."
   ]
  },
  {
   "cell_type": "code",
   "execution_count": null,
   "id": "068112d0",
   "metadata": {},
   "outputs": [],
   "source": []
  },
  {
   "cell_type": "code",
   "execution_count": 81,
   "id": "c26318cb",
   "metadata": {},
   "outputs": [
    {
     "data": {
      "text/plain": [
       "dict_keys(['a', 'p', 'o', 'i', 'e', 'n', 's'])"
      ]
     },
     "execution_count": 81,
     "metadata": {},
     "output_type": "execute_result"
    }
   ],
   "source": [
    "c.keys()"
   ]
  },
  {
   "cell_type": "code",
   "execution_count": 59,
   "id": "7d64ddb5",
   "metadata": {},
   "outputs": [],
   "source": [
    "test = list(c.keys())"
   ]
  },
  {
   "cell_type": "code",
   "execution_count": 60,
   "id": "80ee0c6d",
   "metadata": {},
   "outputs": [
    {
     "data": {
      "text/plain": [
       "['a', 'p', 'o', 'i', 'e', 'n', 's']"
      ]
     },
     "execution_count": 60,
     "metadata": {},
     "output_type": "execute_result"
    }
   ],
   "source": [
    "test"
   ]
  },
  {
   "cell_type": "code",
   "execution_count": 69,
   "id": "ab56eea7",
   "metadata": {},
   "outputs": [
    {
     "data": {
      "text/plain": [
       "Counter({'a': 2, 'p': 1, 'o': 1, 'i': 1, 'e': 2, 'n': 1, 's': 1})"
      ]
     },
     "execution_count": 69,
     "metadata": {},
     "output_type": "execute_result"
    }
   ],
   "source": [
    "c"
   ]
  },
  {
   "cell_type": "code",
   "execution_count": 45,
   "id": "369d6665",
   "metadata": {},
   "outputs": [
    {
     "name": "stdout",
     "output_type": "stream",
     "text": [
      "a\n",
      "p\n",
      "o\n",
      "i\n",
      "e\n",
      "n\n",
      "s\n"
     ]
    }
   ],
   "source": [
    "for x in c:\n",
    "    print(x)"
   ]
  },
  {
   "cell_type": "code",
   "execution_count": 106,
   "id": "8b355800",
   "metadata": {},
   "outputs": [
    {
     "data": {
      "text/plain": [
       "2"
      ]
     },
     "execution_count": 106,
     "metadata": {},
     "output_type": "execute_result"
    }
   ],
   "source": [
    "c['a']"
   ]
  },
  {
   "cell_type": "code",
   "execution_count": 141,
   "id": "67f9323d",
   "metadata": {},
   "outputs": [
    {
     "data": {
      "text/plain": [
       "[2, 1, 1, 1, 2, 1, 1]"
      ]
     },
     "execution_count": 141,
     "metadata": {},
     "output_type": "execute_result"
    }
   ],
   "source": [
    "new_list = []\n",
    "for x in c:\n",
    "    new_list.append(c[x])\n",
    "    \n",
    "new_list"
   ]
  },
  {
   "cell_type": "code",
   "execution_count": 144,
   "id": "f34aa863",
   "metadata": {},
   "outputs": [
    {
     "data": {
      "text/plain": [
       "(2, 1)"
      ]
     },
     "execution_count": 144,
     "metadata": {},
     "output_type": "execute_result"
    }
   ],
   "source": [
    "max(new_list), min(new_list)"
   ]
  },
  {
   "cell_type": "code",
   "execution_count": null,
   "id": "4c2f461d",
   "metadata": {},
   "outputs": [],
   "source": []
  }
 ],
 "metadata": {
  "kernelspec": {
   "display_name": "Python 3",
   "language": "python",
   "name": "python3"
  },
  "language_info": {
   "codemirror_mode": {
    "name": "ipython",
    "version": 3
   },
   "file_extension": ".py",
   "mimetype": "text/x-python",
   "name": "python",
   "nbconvert_exporter": "python",
   "pygments_lexer": "ipython3",
   "version": "3.8.8"
  }
 },
 "nbformat": 4,
 "nbformat_minor": 5
}

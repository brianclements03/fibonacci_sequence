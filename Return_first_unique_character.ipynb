{
 "cells": [
  {
   "cell_type": "markdown",
   "id": "6e039829",
   "metadata": {},
   "source": [
    "# Another hackerrank challenge: return the first unique character in a string"
   ]
  },
  {
   "cell_type": "code",
   "execution_count": 50,
   "id": "b1186405",
   "metadata": {},
   "outputs": [],
   "source": [
    "import pandas as pd\n",
    "import numpy as np\n",
    "from collections import Counter"
   ]
  },
  {
   "cell_type": "code",
   "execution_count": 31,
   "id": "2fe11fae",
   "metadata": {},
   "outputs": [
    {
     "name": "stdout",
     "output_type": "stream",
     "text": [
      "Counter({'a': 2, 'e': 2, 'p': 1, 'o': 1, 'i': 1, 'n': 1, 's': 1})\n"
     ]
    }
   ],
   "source": [
    "example = 'apoienase'\n",
    "c=Counter(example)\n",
    "print(c)"
   ]
  },
  {
   "cell_type": "code",
   "execution_count": 63,
   "id": "eef2950c",
   "metadata": {},
   "outputs": [],
   "source": [
    "def first_unique(s):\n",
    "    c = Counter(s)\n",
    "    array1 = c\n",
    "    array2 = list(c.keys())\n",
    "    for x in array1:\n",
    "        if array1[x] >  1:\n",
    "            continue\n",
    "        elif x==1:\n",
    "            return array2[x]\n",
    "#         else:\n",
    "#             print '-1'"
   ]
  },
  {
   "cell_type": "code",
   "execution_count": 64,
   "id": "f610af3c",
   "metadata": {},
   "outputs": [],
   "source": [
    "first_unique(example)"
   ]
  },
  {
   "cell_type": "code",
   "execution_count": 71,
   "id": "76a1eea7",
   "metadata": {},
   "outputs": [
    {
     "data": {
      "text/plain": [
       "dict_keys(['a', 'p', 'o', 'i', 'e', 'n', 's'])"
      ]
     },
     "execution_count": 71,
     "metadata": {},
     "output_type": "execute_result"
    }
   ],
   "source": [
    "c.keys()"
   ]
  },
  {
   "cell_type": "code",
   "execution_count": 59,
   "id": "3073c194",
   "metadata": {},
   "outputs": [],
   "source": [
    "test = list(c.keys())"
   ]
  },
  {
   "cell_type": "code",
   "execution_count": 60,
   "id": "931a2d6c",
   "metadata": {},
   "outputs": [
    {
     "data": {
      "text/plain": [
       "['a', 'p', 'o', 'i', 'e', 'n', 's']"
      ]
     },
     "execution_count": 60,
     "metadata": {},
     "output_type": "execute_result"
    }
   ],
   "source": [
    "test"
   ]
  },
  {
   "cell_type": "code",
   "execution_count": 69,
   "id": "19754926",
   "metadata": {},
   "outputs": [
    {
     "data": {
      "text/plain": [
       "Counter({'a': 2, 'p': 1, 'o': 1, 'i': 1, 'e': 2, 'n': 1, 's': 1})"
      ]
     },
     "execution_count": 69,
     "metadata": {},
     "output_type": "execute_result"
    }
   ],
   "source": [
    "c"
   ]
  },
  {
   "cell_type": "code",
   "execution_count": 45,
   "id": "8e4ec603",
   "metadata": {},
   "outputs": [
    {
     "name": "stdout",
     "output_type": "stream",
     "text": [
      "a\n",
      "p\n",
      "o\n",
      "i\n",
      "e\n",
      "n\n",
      "s\n"
     ]
    }
   ],
   "source": [
    "for x in c:\n",
    "    print(x)"
   ]
  },
  {
   "cell_type": "code",
   "execution_count": null,
   "id": "e6aef347",
   "metadata": {},
   "outputs": [],
   "source": []
  }
 ],
 "metadata": {
  "kernelspec": {
   "display_name": "Python 3",
   "language": "python",
   "name": "python3"
  },
  "language_info": {
   "codemirror_mode": {
    "name": "ipython",
    "version": 3
   },
   "file_extension": ".py",
   "mimetype": "text/x-python",
   "name": "python",
   "nbconvert_exporter": "python",
   "pygments_lexer": "ipython3",
   "version": "3.8.8"
  }
 },
 "nbformat": 4,
 "nbformat_minor": 5
}

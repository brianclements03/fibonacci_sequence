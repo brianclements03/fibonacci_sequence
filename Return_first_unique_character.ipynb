{
 "cells": [
  {
   "cell_type": "markdown",
   "id": "b79f1fa8",
   "metadata": {},
   "source": [
    "# Another hackerrank challenge: return the first unique character in a string"
   ]
  },
  {
   "cell_type": "code",
   "execution_count": 1,
   "id": "b4b6d252",
   "metadata": {},
   "outputs": [],
   "source": [
    "import pandas as pd\n",
    "import numpy as np\n",
    "from collections import Counter"
   ]
  },
  {
   "cell_type": "code",
   "execution_count": 2,
   "id": "a6cb1396",
   "metadata": {},
   "outputs": [
    {
     "name": "stdout",
     "output_type": "stream",
     "text": [
      "Counter({'u': 2, 't': 2, 'z': 1, 'i': 1, 'b': 1, 'r': 1, 'q': 1, 'o': 1})\n"
     ]
    }
   ],
   "source": [
    "example = 'ziburquott'\n",
    "c=Counter(example)\n",
    "print(c)"
   ]
  },
  {
   "cell_type": "code",
   "execution_count": 3,
   "id": "dbd2d904",
   "metadata": {},
   "outputs": [],
   "source": [
    "def first_unique(s):\n",
    "    c = Counter(s)\n",
    "    temp_list = []\n",
    "    for x in c:\n",
    "        temp_list.append(c[x])\n",
    "    if min(temp_list) > 1:\n",
    "        print('no unique characters')\n",
    "    else:\n",
    "        for x in c:\n",
    "            if c[x] >  1:\n",
    "                continue\n",
    "            elif c[x]==1:\n",
    "                return x\n",
    "            "
   ]
  },
  {
   "cell_type": "code",
   "execution_count": 4,
   "id": "1b795be7",
   "metadata": {},
   "outputs": [
    {
     "data": {
      "text/plain": [
       "'z'"
      ]
     },
     "execution_count": 4,
     "metadata": {},
     "output_type": "execute_result"
    }
   ],
   "source": [
    "first_unique(example)"
   ]
  },
  {
   "cell_type": "code",
   "execution_count": 5,
   "id": "18084740",
   "metadata": {
    "scrolled": true
   },
   "outputs": [
    {
     "name": "stdout",
     "output_type": "stream",
     "text": [
      "no unique characters\n"
     ]
    }
   ],
   "source": [
    "first_unique('aaeeiioouu')"
   ]
  },
  {
   "cell_type": "code",
   "execution_count": 6,
   "id": "f0ce1e90",
   "metadata": {},
   "outputs": [
    {
     "data": {
      "text/plain": [
       "'h'"
      ]
     },
     "execution_count": 6,
     "metadata": {},
     "output_type": "execute_result"
    }
   ],
   "source": [
    "first_unique('aaeeiioouuoih')"
   ]
  },
  {
   "cell_type": "code",
   "execution_count": 7,
   "id": "c5e4f81e",
   "metadata": {
    "scrolled": true
   },
   "outputs": [
    {
     "data": {
      "text/plain": [
       "'f'"
      ]
     },
     "execution_count": 7,
     "metadata": {},
     "output_type": "execute_result"
    }
   ],
   "source": [
    "first_unique('aaefeiioouu')"
   ]
  },
  {
   "cell_type": "markdown",
   "id": "c1fe6fa4",
   "metadata": {},
   "source": [
    "## OK, cracked it.  But...hackerrank REALLY wanted it optimized. So that would be the next step in this challenge"
   ]
  },
  {
   "cell_type": "code",
   "execution_count": 8,
   "id": "834707c1",
   "metadata": {
    "scrolled": true
   },
   "outputs": [
    {
     "data": {
      "text/plain": [
       "'u'"
      ]
     },
     "execution_count": 8,
     "metadata": {},
     "output_type": "execute_result"
    }
   ],
   "source": [
    "first_unique('in a midsummer nights dream')"
   ]
  },
  {
   "cell_type": "code",
   "execution_count": 9,
   "id": "61faceae",
   "metadata": {},
   "outputs": [
    {
     "data": {
      "text/plain": [
       "' '"
      ]
     },
     "execution_count": 9,
     "metadata": {},
     "output_type": "execute_result"
    }
   ],
   "source": [
    "first_unique('in amidsummernightsdream')"
   ]
  },
  {
   "cell_type": "markdown",
   "id": "1c5367bb",
   "metadata": {},
   "source": [
    "- there i found a minor glitch--i might want to join all the words in the string to avoid an individual space being considered a unique character. But the function is working just fine, this would not be necessary depending on how you wanted it to run."
   ]
  },
  {
   "cell_type": "code",
   "execution_count": 10,
   "id": "424b85eb",
   "metadata": {
    "scrolled": true
   },
   "outputs": [
    {
     "data": {
      "text/plain": [
       "'I'"
      ]
     },
     "execution_count": 10,
     "metadata": {},
     "output_type": "execute_result"
    }
   ],
   "source": [
    "first_unique('In a midsummer nights dream')"
   ]
  },
  {
   "cell_type": "markdown",
   "id": "a9b9fe58",
   "metadata": {},
   "source": [
    "- another issue: capitalization. might want to apply .lower()"
   ]
  },
  {
   "cell_type": "code",
   "execution_count": 11,
   "id": "c5bfae34",
   "metadata": {},
   "outputs": [],
   "source": [
    "long_string = 'XKmYDPFTOTohGAjpKtnSVgztiYVAMtokUfXuKPPBeMMnkGGiCLdhgiibVRzklsdIAyZdwJHjdLjRsHHbluxrmblROcggLqfKqnCB'\n"
   ]
  },
  {
   "cell_type": "code",
   "execution_count": 12,
   "id": "7aca7b6d",
   "metadata": {},
   "outputs": [
    {
     "data": {
      "text/plain": [
       "'D'"
      ]
     },
     "execution_count": 12,
     "metadata": {},
     "output_type": "execute_result"
    }
   ],
   "source": [
    "first_unique(long_string)"
   ]
  },
  {
   "cell_type": "markdown",
   "id": "0a426737",
   "metadata": {},
   "source": [
    "- i have no idea why this won't work on a long, random string like the example above\n",
    "- YOU WERE DEFINING THE STRINGS INSIDE OF BRACKETS (LISTS)"
   ]
  },
  {
   "cell_type": "code",
   "execution_count": 13,
   "id": "2b9aacf0",
   "metadata": {},
   "outputs": [],
   "source": [
    "medium_string = '5s3wvKhxUIm6Z3MdLwJc'"
   ]
  },
  {
   "cell_type": "code",
   "execution_count": 14,
   "id": "b4ea4c7c",
   "metadata": {},
   "outputs": [
    {
     "name": "stdout",
     "output_type": "stream",
     "text": [
      "CPU times: user 35 µs, sys: 6 µs, total: 41 µs\n",
      "Wall time: 49.8 µs\n"
     ]
    },
    {
     "data": {
      "text/plain": [
       "'5'"
      ]
     },
     "execution_count": 14,
     "metadata": {},
     "output_type": "execute_result"
    }
   ],
   "source": [
    "%%time\n",
    "first_unique(medium_string)"
   ]
  },
  {
   "cell_type": "code",
   "execution_count": 15,
   "id": "ab4b7f23",
   "metadata": {},
   "outputs": [],
   "source": [
    "# this string is 10_000 characters\n",
    "very_long_string = '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'"
   ]
  },
  {
   "cell_type": "code",
   "execution_count": 16,
   "id": "a4e7410a",
   "metadata": {},
   "outputs": [
    {
     "name": "stdout",
     "output_type": "stream",
     "text": [
      "no unique characters\n"
     ]
    }
   ],
   "source": [
    "first_unique(very_long_string)"
   ]
  },
  {
   "cell_type": "code",
   "execution_count": 17,
   "id": "fb3ba120",
   "metadata": {},
   "outputs": [
    {
     "name": "stdout",
     "output_type": "stream",
     "text": [
      "no unique characters\n",
      "CPU times: user 553 µs, sys: 71 µs, total: 624 µs\n",
      "Wall time: 589 µs\n"
     ]
    }
   ],
   "source": [
    "%%time\n",
    "first_unique(very_long_string)\n"
   ]
  },
  {
   "cell_type": "markdown",
   "id": "1597e818",
   "metadata": {},
   "source": [
    "## Seems pretty optimal to me..."
   ]
  },
  {
   "cell_type": "code",
   "execution_count": 18,
   "id": "3763072d",
   "metadata": {},
   "outputs": [
    {
     "name": "stdout",
     "output_type": "stream",
     "text": [
      "CPU times: user 48 µs, sys: 1 µs, total: 49 µs\n",
      "Wall time: 51 µs\n"
     ]
    },
    {
     "data": {
      "text/plain": [
       "'D'"
      ]
     },
     "execution_count": 18,
     "metadata": {},
     "output_type": "execute_result"
    }
   ],
   "source": [
    "%%time\n",
    "first_unique('EjoG63ZY444GSyUnZs9ax3NyKaPCtys0bZnzmFRxbueJNnmALTxuu2RjasG0Nmr5zLtHxHolHTidnhxrgKynPPFZqEF8VMoY7FOfrKti0T7cgV4R9vcxfUorRaHGvqQtCM5avvT50qxzE26sSh7BQrCpmIAE2QbBscc4wvXW6JWf7WmKr2vJ9xBPHvxRKOU7HSPpcPgOcRdncEt0RhgbIZpXI5lQ22ZuyByw8itB9YqOqzRJRQBqsvE2Ov897CJ5teYPcTiGXspweXvh4c1DI9Zyg5iuklx9hj163TOowXG8')"
   ]
  },
  {
   "cell_type": "code",
   "execution_count": 19,
   "id": "2eedb6ad",
   "metadata": {},
   "outputs": [
    {
     "data": {
      "text/plain": [
       "dict_keys(['z', 'i', 'b', 'u', 'r', 'q', 'o', 't'])"
      ]
     },
     "execution_count": 19,
     "metadata": {},
     "output_type": "execute_result"
    }
   ],
   "source": [
    "c.keys()"
   ]
  },
  {
   "cell_type": "code",
   "execution_count": 20,
   "id": "f8a5b59c",
   "metadata": {},
   "outputs": [],
   "source": [
    "test = list(c.keys())"
   ]
  },
  {
   "cell_type": "code",
   "execution_count": 21,
   "id": "51efe405",
   "metadata": {},
   "outputs": [
    {
     "data": {
      "text/plain": [
       "['z', 'i', 'b', 'u', 'r', 'q', 'o', 't']"
      ]
     },
     "execution_count": 21,
     "metadata": {},
     "output_type": "execute_result"
    }
   ],
   "source": [
    "test"
   ]
  },
  {
   "cell_type": "code",
   "execution_count": 22,
   "id": "e4dd394d",
   "metadata": {},
   "outputs": [
    {
     "data": {
      "text/plain": [
       "Counter({'z': 1, 'i': 1, 'b': 1, 'u': 2, 'r': 1, 'q': 1, 'o': 1, 't': 2})"
      ]
     },
     "execution_count": 22,
     "metadata": {},
     "output_type": "execute_result"
    }
   ],
   "source": [
    "c"
   ]
  },
  {
   "cell_type": "code",
   "execution_count": 23,
   "id": "a63ecfb4",
   "metadata": {},
   "outputs": [
    {
     "name": "stdout",
     "output_type": "stream",
     "text": [
      "z\n",
      "i\n",
      "b\n",
      "u\n",
      "r\n",
      "q\n",
      "o\n",
      "t\n"
     ]
    }
   ],
   "source": [
    "for x in c:\n",
    "    print(x)"
   ]
  },
  {
   "cell_type": "code",
   "execution_count": 27,
   "id": "a58ade25",
   "metadata": {},
   "outputs": [
    {
     "data": {
      "text/plain": [
       "1"
      ]
     },
     "execution_count": 27,
     "metadata": {},
     "output_type": "execute_result"
    }
   ],
   "source": [
    "c['z']"
   ]
  },
  {
   "cell_type": "code",
   "execution_count": 25,
   "id": "8c7e3bce",
   "metadata": {},
   "outputs": [
    {
     "data": {
      "text/plain": [
       "[1, 1, 1, 2, 1, 1, 1, 2]"
      ]
     },
     "execution_count": 25,
     "metadata": {},
     "output_type": "execute_result"
    }
   ],
   "source": [
    "new_list = []\n",
    "for x in c:\n",
    "    new_list.append(c[x])\n",
    "    \n",
    "new_list"
   ]
  },
  {
   "cell_type": "code",
   "execution_count": 26,
   "id": "2a4f4be4",
   "metadata": {},
   "outputs": [
    {
     "data": {
      "text/plain": [
       "(2, 1)"
      ]
     },
     "execution_count": 26,
     "metadata": {},
     "output_type": "execute_result"
    }
   ],
   "source": [
    "max(new_list), min(new_list)"
   ]
  },
  {
   "cell_type": "code",
   "execution_count": null,
   "id": "5f0139cb",
   "metadata": {},
   "outputs": [],
   "source": []
  }
 ],
 "metadata": {
  "kernelspec": {
   "display_name": "Python 3",
   "language": "python",
   "name": "python3"
  },
  "language_info": {
   "codemirror_mode": {
    "name": "ipython",
    "version": 3
   },
   "file_extension": ".py",
   "mimetype": "text/x-python",
   "name": "python",
   "nbconvert_exporter": "python",
   "pygments_lexer": "ipython3",
   "version": "3.8.8"
  }
 },
 "nbformat": 4,
 "nbformat_minor": 5
}

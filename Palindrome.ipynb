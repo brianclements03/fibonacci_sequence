{
 "cells": [
  {
   "cell_type": "code",
   "execution_count": 1,
   "id": "af54e7d2",
   "metadata": {},
   "outputs": [],
   "source": [
    "import pandas as pd\n",
    "import numpy as np"
   ]
  },
  {
   "cell_type": "markdown",
   "id": "7b8c7838",
   "metadata": {},
   "source": [
    "Make a function to detect a palindrome"
   ]
  },
  {
   "cell_type": "code",
   "execution_count": 11,
   "id": "145f8e1c",
   "metadata": {},
   "outputs": [],
   "source": [
    "def palindrome_test(string):\n",
    "    rev = ''.join(reversed(string)) # why is the ''.join() required here?\n",
    "    if rev == string:\n",
    "        return True\n",
    "    else:\n",
    "        return False"
   ]
  },
  {
   "cell_type": "code",
   "execution_count": 22,
   "id": "64531f6c",
   "metadata": {
    "scrolled": true
   },
   "outputs": [
    {
     "data": {
      "text/plain": [
       "True"
      ]
     },
     "execution_count": 22,
     "metadata": {},
     "output_type": "execute_result"
    }
   ],
   "source": [
    "palindrome_test('676')"
   ]
  },
  {
   "cell_type": "code",
   "execution_count": 13,
   "id": "ccc6fba0",
   "metadata": {
    "scrolled": false
   },
   "outputs": [
    {
     "data": {
      "text/plain": [
       "True"
      ]
     },
     "execution_count": 13,
     "metadata": {},
     "output_type": "execute_result"
    }
   ],
   "source": [
    "palindrome_test('hannah')"
   ]
  },
  {
   "cell_type": "code",
   "execution_count": 14,
   "id": "2cbb17a3",
   "metadata": {
    "scrolled": false
   },
   "outputs": [
    {
     "data": {
      "text/plain": [
       "True"
      ]
     },
     "execution_count": 14,
     "metadata": {},
     "output_type": "execute_result"
    }
   ],
   "source": [
    "palindrome_test('malayalam')"
   ]
  },
  {
   "cell_type": "code",
   "execution_count": 15,
   "id": "3aba0547",
   "metadata": {
    "scrolled": true
   },
   "outputs": [
    {
     "data": {
      "text/plain": [
       "False"
      ]
     },
     "execution_count": 15,
     "metadata": {},
     "output_type": "execute_result"
    }
   ],
   "source": [
    "palindrome_test('brian')"
   ]
  },
  {
   "cell_type": "code",
   "execution_count": 26,
   "id": "82b0c0f1",
   "metadata": {},
   "outputs": [
    {
     "name": "stdout",
     "output_type": "stream",
     "text": [
      "No\n",
      "No\n",
      "No\n",
      "No\n",
      "No\n",
      "No\n",
      "No\n",
      "No\n",
      "Yes\n"
     ]
    }
   ],
   "source": [
    "x = \"malayalam\"\n",
    " \n",
    "w = \"\"\n",
    "for i in x:\n",
    "    w = i + w\n",
    "#     print(w) just to see how it's building the test palindrome\n",
    "    if (x == w):\n",
    "        print(\"Yes\")\n",
    "    else:\n",
    "        print(\"No\")"
   ]
  },
  {
   "cell_type": "code",
   "execution_count": 27,
   "id": "b8a3c8e5",
   "metadata": {},
   "outputs": [],
   "source": [
    "def isPalindrome_geeks(s):\n",
    "    return s == s[::-1] #how does this slice work?"
   ]
  },
  {
   "cell_type": "code",
   "execution_count": 28,
   "id": "30a6c5a6",
   "metadata": {},
   "outputs": [
    {
     "data": {
      "text/plain": [
       "True"
      ]
     },
     "execution_count": 28,
     "metadata": {},
     "output_type": "execute_result"
    }
   ],
   "source": [
    "isPalindrome_geeks('malayalam')"
   ]
  },
  {
   "cell_type": "code",
   "execution_count": 29,
   "id": "6e633808",
   "metadata": {},
   "outputs": [
    {
     "data": {
      "text/plain": [
       "False"
      ]
     },
     "execution_count": 29,
     "metadata": {},
     "output_type": "execute_result"
    }
   ],
   "source": [
    "isPalindrome_geeks('brian')"
   ]
  },
  {
   "cell_type": "code",
   "execution_count": 30,
   "id": "269cfb6e",
   "metadata": {
    "scrolled": true
   },
   "outputs": [
    {
     "data": {
      "text/plain": [
       "False"
      ]
     },
     "execution_count": 30,
     "metadata": {},
     "output_type": "execute_result"
    }
   ],
   "source": [
    "isPalindrome_geeks('577')"
   ]
  },
  {
   "cell_type": "code",
   "execution_count": 31,
   "id": "af797d58",
   "metadata": {},
   "outputs": [
    {
     "data": {
      "text/plain": [
       "True"
      ]
     },
     "execution_count": 31,
     "metadata": {},
     "output_type": "execute_result"
    }
   ],
   "source": [
    "isPalindrome_geeks('757')"
   ]
  },
  {
   "cell_type": "markdown",
   "id": "7e080c6d",
   "metadata": {},
   "source": [
    "# I'd like to see a recursive method in here"
   ]
  },
  {
   "cell_type": "code",
   "execution_count": 35,
   "id": "1e116c59",
   "metadata": {},
   "outputs": [],
   "source": [
    "def recursive_palindrome(s):\n",
    "    # to change it the string is similar case\n",
    "    s = s.lower()\n",
    "    # length of s\n",
    "    l = len(s)\n",
    " \n",
    "    # if length is less than 2\n",
    "    if l < 2:\n",
    "        return True\n",
    " \n",
    "    # If s[0] and s[l-1] are equal\n",
    "    elif s[0] == s[l - 1]:\n",
    " \n",
    "        # Call is palindrome form substring(1,l-1)\n",
    "        return recursive_palindrome(s[1: l - 1])\n",
    " \n",
    "    else:\n",
    "        return False"
   ]
  },
  {
   "cell_type": "code",
   "execution_count": 36,
   "id": "825cdde5",
   "metadata": {},
   "outputs": [
    {
     "data": {
      "text/plain": [
       "False"
      ]
     },
     "execution_count": 36,
     "metadata": {},
     "output_type": "execute_result"
    }
   ],
   "source": [
    "recursive_palindrome('brian')"
   ]
  },
  {
   "cell_type": "code",
   "execution_count": 37,
   "id": "612cda14",
   "metadata": {},
   "outputs": [
    {
     "data": {
      "text/plain": [
       "True"
      ]
     },
     "execution_count": 37,
     "metadata": {},
     "output_type": "execute_result"
    }
   ],
   "source": [
    "recursive_palindrome('mayalayam')"
   ]
  },
  {
   "cell_type": "code",
   "execution_count": 38,
   "id": "ec7c618b",
   "metadata": {},
   "outputs": [
    {
     "data": {
      "text/plain": [
       "True"
      ]
     },
     "execution_count": 38,
     "metadata": {},
     "output_type": "execute_result"
    }
   ],
   "source": [
    "recursive_palindrome('87878')"
   ]
  },
  {
   "cell_type": "code",
   "execution_count": 39,
   "id": "caee394b",
   "metadata": {},
   "outputs": [
    {
     "data": {
      "text/plain": [
       "False"
      ]
     },
     "execution_count": 39,
     "metadata": {},
     "output_type": "execute_result"
    }
   ],
   "source": [
    "recursive_palindrome('8712345')"
   ]
  },
  {
   "cell_type": "code",
   "execution_count": 40,
   "id": "2eb11140",
   "metadata": {},
   "outputs": [
    {
     "data": {
      "text/plain": [
       "False"
      ]
     },
     "execution_count": 40,
     "metadata": {},
     "output_type": "execute_result"
    }
   ],
   "source": [
    "recursive_palindrome('alksjdfhqoiuenfaosiuhvaiosudfn1o2i3u94hablnskjvnqoiwuerhqboakvjdnalsiuere1ho2iuwfnqlkv')"
   ]
  },
  {
   "cell_type": "code",
   "execution_count": null,
   "id": "72fca72c",
   "metadata": {},
   "outputs": [],
   "source": []
  }
 ],
 "metadata": {
  "kernelspec": {
   "display_name": "Python 3",
   "language": "python",
   "name": "python3"
  },
  "language_info": {
   "codemirror_mode": {
    "name": "ipython",
    "version": 3
   },
   "file_extension": ".py",
   "mimetype": "text/x-python",
   "name": "python",
   "nbconvert_exporter": "python",
   "pygments_lexer": "ipython3",
   "version": "3.8.8"
  }
 },
 "nbformat": 4,
 "nbformat_minor": 5
}

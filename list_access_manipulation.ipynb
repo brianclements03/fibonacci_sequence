{
 "cells": [
  {
   "cell_type": "code",
   "execution_count": 1,
   "id": "ecaa9006",
   "metadata": {},
   "outputs": [],
   "source": [
    "import numpy as np"
   ]
  },
  {
   "cell_type": "markdown",
   "id": "d19d0241",
   "metadata": {},
   "source": [
    "## Print every word in a string"
   ]
  },
  {
   "cell_type": "code",
   "execution_count": 2,
   "id": "a1f2050e",
   "metadata": {},
   "outputs": [],
   "source": [
    "string = 'author explains mysteries of music and the mind'"
   ]
  },
  {
   "cell_type": "code",
   "execution_count": 6,
   "id": "617701b1",
   "metadata": {},
   "outputs": [
    {
     "name": "stdout",
     "output_type": "stream",
     "text": [
      "author\n",
      "explains\n",
      "mysteries\n",
      "of\n",
      "music\n",
      "and\n",
      "the\n",
      "mind\n"
     ]
    }
   ],
   "source": [
    "for x in string.split():\n",
    "    print(x)"
   ]
  },
  {
   "cell_type": "code",
   "execution_count": 7,
   "id": "cba00e63",
   "metadata": {},
   "outputs": [
    {
     "name": "stdout",
     "output_type": "stream",
     "text": [
      "6\n",
      "8\n",
      "9\n",
      "2\n",
      "5\n",
      "3\n",
      "3\n",
      "4\n"
     ]
    }
   ],
   "source": [
    "for x in string.split():\n",
    "    print(len(x))"
   ]
  },
  {
   "cell_type": "code",
   "execution_count": 37,
   "id": "cff59cc9",
   "metadata": {},
   "outputs": [],
   "source": [
    "def longest(x):\n",
    "    lengths=[]\n",
    "    for x in string.split():\n",
    "        lengths.append(len(x))\n",
    "    return string.split()[lengths.index(max(lengths))]"
   ]
  },
  {
   "cell_type": "code",
   "execution_count": 38,
   "id": "c19c8044",
   "metadata": {},
   "outputs": [
    {
     "data": {
      "text/plain": [
       "'mysteries'"
      ]
     },
     "execution_count": 38,
     "metadata": {},
     "output_type": "execute_result"
    }
   ],
   "source": [
    "longest(string)"
   ]
  },
  {
   "cell_type": "code",
   "execution_count": 29,
   "id": "f47b035f",
   "metadata": {},
   "outputs": [
    {
     "data": {
      "text/plain": [
       "[6, 8, 9, 2, 5, 3, 3, 4]"
      ]
     },
     "execution_count": 29,
     "metadata": {},
     "output_type": "execute_result"
    }
   ],
   "source": [
    "lengths=[]\n",
    "for x in string.split():\n",
    "    lengths.append(len(x))\n",
    "lengths"
   ]
  },
  {
   "cell_type": "code",
   "execution_count": 30,
   "id": "942c7efc",
   "metadata": {},
   "outputs": [
    {
     "data": {
      "text/plain": [
       "9"
      ]
     },
     "execution_count": 30,
     "metadata": {},
     "output_type": "execute_result"
    }
   ],
   "source": [
    "max(lengths)"
   ]
  },
  {
   "cell_type": "code",
   "execution_count": 34,
   "id": "283e02a0",
   "metadata": {},
   "outputs": [
    {
     "data": {
      "text/plain": [
       "2"
      ]
     },
     "execution_count": 34,
     "metadata": {},
     "output_type": "execute_result"
    }
   ],
   "source": [
    "lengths.index(max(lengths))"
   ]
  },
  {
   "cell_type": "code",
   "execution_count": null,
   "id": "3e841044",
   "metadata": {},
   "outputs": [],
   "source": []
  }
 ],
 "metadata": {
  "kernelspec": {
   "display_name": "Python 3",
   "language": "python",
   "name": "python3"
  },
  "language_info": {
   "codemirror_mode": {
    "name": "ipython",
    "version": 3
   },
   "file_extension": ".py",
   "mimetype": "text/x-python",
   "name": "python",
   "nbconvert_exporter": "python",
   "pygments_lexer": "ipython3",
   "version": "3.8.8"
  }
 },
 "nbformat": 4,
 "nbformat_minor": 5
}

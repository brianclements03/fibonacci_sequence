{
 "cells": [
  {
   "cell_type": "code",
   "execution_count": 1,
   "id": "cf11375e",
   "metadata": {},
   "outputs": [],
   "source": [
    "import pandas as pd\n",
    "import numpy as np"
   ]
  },
  {
   "cell_type": "code",
   "execution_count": 2,
   "id": "a62522f2",
   "metadata": {},
   "outputs": [],
   "source": [
    "def fibonacci(n):\n",
    "    assert n>0\n",
    "    if n == 1:\n",
    "        return 0\n",
    "    elif n == 2:\n",
    "        return 1\n",
    "    else:\n",
    "        return fibonacci(n-1) + fibonacci(n-2)"
   ]
  },
  {
   "cell_type": "code",
   "execution_count": 3,
   "id": "fb65f173",
   "metadata": {},
   "outputs": [
    {
     "data": {
      "text/plain": [
       "13"
      ]
     },
     "execution_count": 3,
     "metadata": {},
     "output_type": "execute_result"
    }
   ],
   "source": [
    "fibonacci(8)"
   ]
  },
  {
   "cell_type": "code",
   "execution_count": 4,
   "id": "24347fe0",
   "metadata": {},
   "outputs": [
    {
     "data": {
      "text/plain": [
       "10946"
      ]
     },
     "execution_count": 4,
     "metadata": {},
     "output_type": "execute_result"
    }
   ],
   "source": [
    "fibonacci(22)"
   ]
  },
  {
   "cell_type": "code",
   "execution_count": null,
   "id": "cf503323",
   "metadata": {},
   "outputs": [],
   "source": []
  },
  {
   "cell_type": "markdown",
   "id": "e642d7ec",
   "metadata": {},
   "source": [
    "# Write it again, \"in your own words\"\n",
    "    "
   ]
  },
  {
   "cell_type": "code",
   "execution_count": 5,
   "id": "e5b3185e",
   "metadata": {},
   "outputs": [],
   "source": [
    "def my_fib(n):\n",
    "    assert n>0\n",
    "    if n == 1:\n",
    "        return 0\n",
    "    elif n == 2:\n",
    "        return 1\n",
    "    else:\n",
    "        return my_fib(n-1) + my_fib(n-2)"
   ]
  },
  {
   "cell_type": "code",
   "execution_count": 6,
   "id": "5920f293",
   "metadata": {},
   "outputs": [
    {
     "data": {
      "text/plain": [
       "13"
      ]
     },
     "execution_count": 6,
     "metadata": {},
     "output_type": "execute_result"
    }
   ],
   "source": [
    "my_fib(8)"
   ]
  },
  {
   "cell_type": "markdown",
   "id": "9bb69119",
   "metadata": {},
   "source": [
    "## Ok, here's a challenge: return the first 3-digit fibonacci number"
   ]
  },
  {
   "cell_type": "code",
   "execution_count": 7,
   "id": "03939d02",
   "metadata": {},
   "outputs": [
    {
     "name": "stdout",
     "output_type": "stream",
     "text": [
      "18\n",
      "19\n"
     ]
    }
   ],
   "source": [
    "for n in np.arange(1,20):\n",
    "    if my_fib(n) > 999:\n",
    "        print(n)"
   ]
  },
  {
   "cell_type": "code",
   "execution_count": 8,
   "id": "6ea3ea22",
   "metadata": {},
   "outputs": [
    {
     "name": "stdout",
     "output_type": "stream",
     "text": [
      "1\n",
      "2\n",
      "3\n",
      "4\n",
      "5\n",
      "6\n",
      "7\n",
      "8\n",
      "9\n",
      "10\n",
      "11\n",
      "12\n",
      "13\n",
      "14\n",
      "15\n",
      "16\n",
      "17\n"
     ]
    }
   ],
   "source": [
    "for n in np.arange(1,20):\n",
    "    while my_fib(n) < 1000:\n",
    "        print(n)\n",
    "        break"
   ]
  },
  {
   "cell_type": "code",
   "execution_count": 9,
   "id": "05215d41",
   "metadata": {},
   "outputs": [
    {
     "name": "stdout",
     "output_type": "stream",
     "text": [
      "18\n"
     ]
    }
   ],
   "source": [
    "for n in np.arange(1,20):\n",
    "    if my_fib(n) > 999:\n",
    "        print(n)\n",
    "        break"
   ]
  },
  {
   "cell_type": "markdown",
   "id": "9f81e66b",
   "metadata": {},
   "source": [
    "## ok got it"
   ]
  },
  {
   "cell_type": "code",
   "execution_count": 10,
   "id": "826a6e55",
   "metadata": {},
   "outputs": [
    {
     "name": "stdout",
     "output_type": "stream",
     "text": [
      "4.9 µs ± 104 ns per loop (mean ± std. dev. of 7 runs, 100000 loops each)\n"
     ]
    }
   ],
   "source": [
    "timeit(my_fib(8))"
   ]
  },
  {
   "cell_type": "code",
   "execution_count": 11,
   "id": "302e8e62",
   "metadata": {},
   "outputs": [
    {
     "data": {
      "text/plain": [
       "13"
      ]
     },
     "execution_count": 11,
     "metadata": {},
     "output_type": "execute_result"
    }
   ],
   "source": [
    "my_fib(8)"
   ]
  },
  {
   "cell_type": "markdown",
   "id": "9c7fb6e7",
   "metadata": {},
   "source": [
    "# next challenge: write next_fib in a non-recursive way"
   ]
  },
  {
   "cell_type": "code",
   "execution_count": 12,
   "id": "b2ad9a8a",
   "metadata": {},
   "outputs": [],
   "source": [
    "def next_fib(n):\n",
    "    x = 0\n",
    "    y = 1\n",
    "    for i in range(2,n):\n",
    "        z = (x + y)\n",
    "        x = y\n",
    "        y = z\n",
    "    return y\n",
    "            "
   ]
  },
  {
   "cell_type": "code",
   "execution_count": 24,
   "id": "4b999932",
   "metadata": {},
   "outputs": [
    {
     "data": {
      "text/plain": [
       "55"
      ]
     },
     "execution_count": 24,
     "metadata": {},
     "output_type": "execute_result"
    }
   ],
   "source": [
    "next_fib(11)"
   ]
  },
  {
   "cell_type": "code",
   "execution_count": null,
   "id": "ab0e1059",
   "metadata": {},
   "outputs": [],
   "source": [
    "# for n == 3\n",
    "# for i in range (2 to 3)\n",
    "# z = 1\n",
    "# x = 1\n",
    "# y = 1\n",
    "# aha...so for i == 4, x becomes 1 instead of zero\n",
    "# z = 1 \n",
    "# x = 1\n",
    "# y = 2\n",
    "# ______________i == 5\n",
    "# z = 3\n",
    "# x = 2\n",
    "# y = 3\n",
    "# ______________i == 6\n",
    "# z = 5\n",
    "# x = 3\n",
    "# y = 5\n",
    "# ______________i == 7\n",
    "# z = 8\n",
    "# x = 5\n",
    "# y = 8\n",
    "# ______________i == 8\n",
    "# z = 13\n",
    "# x = 8\n",
    "# y = 13\n",
    "# ______________i == 9\n",
    "# z = 21\n",
    "# x = 13\n",
    "# y = 21\n",
    "# ______________i == 10\n",
    "# z = 34\n",
    "# x = 21\n",
    "# y = 34\n",
    "# ______________i == 11\n",
    "# z = 55\n",
    "# x = 34\n",
    "# y = 55"
   ]
  },
  {
   "cell_type": "markdown",
   "id": "1ae6bf7c",
   "metadata": {},
   "source": [
    "### better"
   ]
  },
  {
   "cell_type": "code",
   "execution_count": 14,
   "id": "0ea36c2d",
   "metadata": {},
   "outputs": [],
   "source": [
    "def from_stackoverflow(n):\n",
    "    a, b = 0, 1\n",
    "    for i in range(1, n):\n",
    "        a, b = b, a + b\n",
    "    return a"
   ]
  },
  {
   "cell_type": "code",
   "execution_count": 15,
   "id": "34a7e8ac",
   "metadata": {},
   "outputs": [
    {
     "data": {
      "text/plain": [
       "26863810024485359386146727202142923967616609318986952340123175997617981700247881689338369654483356564191827856161443356312976673642210350324634850410377680367334151172899169723197082763985615764450078474174626"
      ]
     },
     "execution_count": 15,
     "metadata": {},
     "output_type": "execute_result"
    }
   ],
   "source": [
    "from_stackoverflow(1000)"
   ]
  },
  {
   "cell_type": "code",
   "execution_count": 16,
   "id": "a2813323",
   "metadata": {},
   "outputs": [
    {
     "name": "stdout",
     "output_type": "stream",
     "text": [
      "524 ns ± 21.2 ns per loop (mean ± std. dev. of 7 runs, 1000000 loops each)\n"
     ]
    }
   ],
   "source": [
    "timeit(from_stackoverflow(8))"
   ]
  },
  {
   "cell_type": "markdown",
   "id": "7c48fa3f",
   "metadata": {},
   "source": [
    "### Wow, that's a whopping speed difference"
   ]
  },
  {
   "cell_type": "code",
   "execution_count": null,
   "id": "559c3a4b",
   "metadata": {},
   "outputs": [],
   "source": []
  }
 ],
 "metadata": {
  "kernelspec": {
   "display_name": "Python 3",
   "language": "python",
   "name": "python3"
  },
  "language_info": {
   "codemirror_mode": {
    "name": "ipython",
    "version": 3
   },
   "file_extension": ".py",
   "mimetype": "text/x-python",
   "name": "python",
   "nbconvert_exporter": "python",
   "pygments_lexer": "ipython3",
   "version": "3.8.8"
  }
 },
 "nbformat": 4,
 "nbformat_minor": 5
}

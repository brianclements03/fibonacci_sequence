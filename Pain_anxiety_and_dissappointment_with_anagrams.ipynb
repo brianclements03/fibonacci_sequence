{
 "cells": [
  {
   "cell_type": "markdown",
   "id": "f342160b",
   "metadata": {},
   "source": [
    "# A notebook for me to try to crack hackerranks \"fun with anagrams\" challenge. \n",
    "### it's not easy"
   ]
  },
  {
   "cell_type": "markdown",
   "id": "bd63e6d0",
   "metadata": {},
   "source": [
    "## I definitely didn't copy this from \n",
    "- https://github.com/rolandojavier/fun-with-anagrams/blob/master/funwithanagrams.py"
   ]
  },
  {
   "cell_type": "code",
   "execution_count": 1,
   "id": "b5130c8a",
   "metadata": {},
   "outputs": [],
   "source": [
    "import numpy as np"
   ]
  },
  {
   "cell_type": "markdown",
   "id": "f3dd37b7",
   "metadata": {},
   "source": [
    "### some lists of anagrams"
   ]
  },
  {
   "cell_type": "code",
   "execution_count": 4,
   "id": "086d91da",
   "metadata": {},
   "outputs": [],
   "source": [
    "list1 = ['beak','bake','break',\t'meat','tram','team','ring','grin','grind','weds','wed','dew']"
   ]
  },
  {
   "cell_type": "code",
   "execution_count": 11,
   "id": "21493d12",
   "metadata": {},
   "outputs": [],
   "source": [
    "list2 =['flow','blow','moist','strom','omits','sharp','harps','sharts','bowl']"
   ]
  },
  {
   "cell_type": "markdown",
   "id": "30b6e721",
   "metadata": {},
   "source": [
    "## our goal here is to return the first (and only the first) in a list of anagrams; if the word has no anagram, it is not returned."
   ]
  },
  {
   "cell_type": "code",
   "execution_count": 6,
   "id": "38fd3371",
   "metadata": {},
   "outputs": [],
   "source": [
    "def checkForAnagrams(word, arr):\n",
    "    # Checking if the word has an anagram in the sliced array.\n",
    "    for x in arr:\n",
    "        if (sorted(word) == sorted(x)):\n",
    "            return True\n",
    "    return False"
   ]
  },
  {
   "cell_type": "code",
   "execution_count": 8,
   "id": "facc008e",
   "metadata": {},
   "outputs": [
    {
     "data": {
      "text/plain": [
       "True"
      ]
     },
     "execution_count": 8,
     "metadata": {},
     "output_type": "execute_result"
    }
   ],
   "source": [
    "checkForAnagrams('bake', list1)"
   ]
  },
  {
   "cell_type": "markdown",
   "id": "c0bd1257",
   "metadata": {},
   "source": [
    "### ok i should have been able to get this far on my own"
   ]
  },
  {
   "cell_type": "code",
   "execution_count": 9,
   "id": "aca66b20",
   "metadata": {},
   "outputs": [],
   "source": [
    "def funWithAnagrams(text):\n",
    "    limit = len(text)\n",
    "    text.reverse()\n",
    "    # Creating a copy of the list which will be modified,\n",
    "    # and will not affect the array slicing during the loop.\n",
    "    final_text = list(text)\n",
    "\n",
    "    # Looping through the list in reverse since we're eliminating\n",
    "    # the second anagram we find from the original list order.\n",
    "    count = 0\n",
    "    for i in range(0, limit):\n",
    "        if text[i+1:] and checkForAnagrams(text[i], text[i+1:]):\n",
    "            # .pop() removes an element at the specified index\n",
    "            # just what i was trying to find yesterday\n",
    "            final_text.pop(i - count)\n",
    "            count += 1\n",
    "\n",
    "    return sorted(final_text)"
   ]
  },
  {
   "cell_type": "code",
   "execution_count": 10,
   "id": "0736418a",
   "metadata": {},
   "outputs": [
    {
     "data": {
      "text/plain": [
       "['beak', 'break', 'grind', 'meat', 'ring', 'tram', 'wed', 'weds']"
      ]
     },
     "execution_count": 10,
     "metadata": {},
     "output_type": "execute_result"
    }
   ],
   "source": [
    "funWithAnagrams(list1)"
   ]
  },
  {
   "cell_type": "code",
   "execution_count": 12,
   "id": "4576f6bd",
   "metadata": {},
   "outputs": [
    {
     "data": {
      "text/plain": [
       "['blow', 'flow', 'moist', 'sharp', 'sharts', 'strom']"
      ]
     },
     "execution_count": 12,
     "metadata": {},
     "output_type": "execute_result"
    }
   ],
   "source": [
    "funWithAnagrams(list2)"
   ]
  },
  {
   "cell_type": "code",
   "execution_count": null,
   "id": "33512f14",
   "metadata": {},
   "outputs": [],
   "source": []
  }
 ],
 "metadata": {
  "kernelspec": {
   "display_name": "Python 3",
   "language": "python",
   "name": "python3"
  },
  "language_info": {
   "codemirror_mode": {
    "name": "ipython",
    "version": 3
   },
   "file_extension": ".py",
   "mimetype": "text/x-python",
   "name": "python",
   "nbconvert_exporter": "python",
   "pygments_lexer": "ipython3",
   "version": "3.8.8"
  }
 },
 "nbformat": 4,
 "nbformat_minor": 5
}

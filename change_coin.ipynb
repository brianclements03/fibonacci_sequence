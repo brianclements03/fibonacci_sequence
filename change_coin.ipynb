{
 "cells": [
  {
   "cell_type": "code",
   "execution_count": 4,
   "id": "68b5359a",
   "metadata": {},
   "outputs": [],
   "source": [
    "import numpy as np\n",
    "import sys"
   ]
  },
  {
   "cell_type": "code",
   "execution_count": 5,
   "id": "21a70fe8",
   "metadata": {},
   "outputs": [],
   "source": [
    "# as copied from interviewbit.com\n",
    "def coinChange(S, sum):\n",
    "\n",
    "    if sum == 0:\n",
    "        return 0\n",
    "\n",
    "    if sum < 0:\n",
    "        return sys.maxsize\n",
    "\n",
    "    coins = sys.maxsize\n",
    "\n",
    "    for c in S:\n",
    "\n",
    "        result = coinChange(S, sum - c)\n",
    "\n",
    "        if result != sys.maxsize:\n",
    "            coins = min(coins, result + 1)\n",
    "\n",
    "    return coins"
   ]
  },
  {
   "cell_type": "code",
   "execution_count": 13,
   "id": "6ffbe39e",
   "metadata": {},
   "outputs": [
    {
     "data": {
      "text/plain": [
       "2"
      ]
     },
     "execution_count": 13,
     "metadata": {},
     "output_type": "execute_result"
    }
   ],
   "source": [
    "coinChange([1,3,5], 2)"
   ]
  },
  {
   "cell_type": "code",
   "execution_count": null,
   "id": "e1bee263",
   "metadata": {},
   "outputs": [],
   "source": [
    "# also a interviewbit.  but i "
   ]
  }
 ],
 "metadata": {
  "kernelspec": {
   "display_name": "Python 3",
   "language": "python",
   "name": "python3"
  },
  "language_info": {
   "codemirror_mode": {
    "name": "ipython",
    "version": 3
   },
   "file_extension": ".py",
   "mimetype": "text/x-python",
   "name": "python",
   "nbconvert_exporter": "python",
   "pygments_lexer": "ipython3",
   "version": "3.8.8"
  }
 },
 "nbformat": 4,
 "nbformat_minor": 5
}

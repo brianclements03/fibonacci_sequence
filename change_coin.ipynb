{
 "cells": [
  {
   "cell_type": "code",
   "execution_count": 1,
   "id": "68b5359a",
   "metadata": {},
   "outputs": [],
   "source": [
    "import numpy as np\n",
    "import sys"
   ]
  },
  {
   "cell_type": "code",
   "execution_count": 2,
   "id": "21a70fe8",
   "metadata": {},
   "outputs": [],
   "source": [
    "# as copied from interviewbit.com\n",
    "# recursive method that starts producing computational lag very quickly\n",
    "def coinChange(S, sum):\n",
    "\n",
    "    if sum == 0:\n",
    "        return 0\n",
    "\n",
    "    if sum < 0:\n",
    "        return sys.maxsize\n",
    "    if sum > 36:\n",
    "        return 'sum too large'\n",
    "    coins = sys.maxsize\n",
    "\n",
    "    for c in S:\n",
    "\n",
    "        result = coinChange(S, sum - c)\n",
    "\n",
    "        if result != sys.maxsize:\n",
    "            coins = min(coins, result + 1)\n",
    "\n",
    "    return coins"
   ]
  },
  {
   "cell_type": "code",
   "execution_count": 3,
   "id": "6ffbe39e",
   "metadata": {},
   "outputs": [
    {
     "data": {
      "text/plain": [
       "'sum too large'"
      ]
     },
     "execution_count": 3,
     "metadata": {},
     "output_type": "execute_result"
    }
   ],
   "source": [
    "coinChange([1,3,5], 37)"
   ]
  },
  {
   "cell_type": "code",
   "execution_count": 4,
   "id": "e1bee263",
   "metadata": {},
   "outputs": [],
   "source": [
    "# also a interviewbit.\n",
    "def coinChange2(S, sum):\n",
    "\n",
    "    dp = [0] * (sum + 1)\n",
    "\n",
    "    for i in range(1, sum + 1):\n",
    "\n",
    "        dp[i] = sys.maxsize\n",
    "\n",
    "        for c in range(len(S)):\n",
    "            if i - S[c] >= 0:\n",
    "                result = dp[i - S[c]]\n",
    "\n",
    "                if result != sys.maxsize:\n",
    "                    dp[i] = min(dp[i], result + 1)\n",
    "\n",
    "    return dp[sum]"
   ]
  },
  {
   "cell_type": "code",
   "execution_count": 5,
   "id": "496ba1fc",
   "metadata": {},
   "outputs": [
    {
     "data": {
      "text/plain": [
       "2"
      ]
     },
     "execution_count": 5,
     "metadata": {},
     "output_type": "execute_result"
    }
   ],
   "source": [
    "coinChange2([1,2,3], 4)"
   ]
  },
  {
   "cell_type": "markdown",
   "id": "8d2a6573",
   "metadata": {},
   "source": [
    "## Wow, I really don't know how that's working"
   ]
  },
  {
   "cell_type": "code",
   "execution_count": 6,
   "id": "6d0c171d",
   "metadata": {},
   "outputs": [],
   "source": [
    "# as copied from geeks for geeks\n",
    "# however, it is giving the max number of coins\n",
    "\n",
    "\n",
    "# Dynamic Programming Python implementation of Coin \n",
    "# Change problem\n",
    "def count(S, m, n):\n",
    "  \n",
    "    # table[i] will be storing the number of solutions for\n",
    "    # value i. We need n+1 rows as the table is constructed\n",
    "    # in bottom up manner using the base case (n = 0)\n",
    "    # Initialize all table values as 0\n",
    "    table = [0 for k in range(n+1)]\n",
    "  \n",
    "    # Base case (If given value is 0)\n",
    "    table[0] = 1\n",
    "  \n",
    "    # Pick all coins one by one and update the table[] values\n",
    "    # after the index greater than or equal to the value of the\n",
    "    # picked coin\n",
    "    for i in range(0,m):\n",
    "        for j in range(S[i],n+1):\n",
    "            table[j] += table[j-S[i]]\n",
    "  \n",
    "    return table[n]\n",
    "  "
   ]
  },
  {
   "cell_type": "code",
   "execution_count": 7,
   "id": "b2113de8",
   "metadata": {},
   "outputs": [
    {
     "name": "stdout",
     "output_type": "stream",
     "text": [
      "4\n"
     ]
    }
   ],
   "source": [
    "# Driver program to test above function\n",
    "arr = [1, 2, 3]\n",
    "m = len(arr)\n",
    "n = 4\n",
    "x = count(arr, m, n)\n",
    "print (x)"
   ]
  },
  {
   "cell_type": "markdown",
   "id": "9518b388",
   "metadata": {},
   "source": [
    "# solution based on a helpful youtube video\n",
    "https://youtu.be/8THI_5SViCQ"
   ]
  },
  {
   "cell_type": "code",
   "execution_count": 8,
   "id": "dffe3c67",
   "metadata": {},
   "outputs": [],
   "source": [
    "\n",
    "# n is the target value; denoms is an array with the coin options\n",
    "def youtube_coinchange(n, denoms):\n",
    "    # create an array for the \"numbers\" we are finding the min coins for\n",
    "    # we start each number at infinity\n",
    "    nums = [float('inf') for x in range(n+1)]\n",
    "    # base case 0\n",
    "    nums[0] = 0\n",
    "    # iteratee through denoms array\n",
    "    for denom in denoms:\n",
    "        # nested for loop for every numbe in every denom\n",
    "        for amount in range(len(nums)):\n",
    "            # checking that the denom is less than the amount\n",
    "            if denom <= amount:\n",
    "                # if it is, update that element of the array\n",
    "                # if the denomination were higher than the amount, you couldn't make change\n",
    "                nums[amount] = min(nums[amount],1+nums[amount-denom])\n",
    "    # if it's infinity, it was impossible to change the coin\n",
    "    return nums[n] if nums[n] != float('inf') else -1"
   ]
  },
  {
   "cell_type": "code",
   "execution_count": 9,
   "id": "8334b4e9",
   "metadata": {},
   "outputs": [
    {
     "data": {
      "text/plain": [
       "3"
      ]
     },
     "execution_count": 9,
     "metadata": {},
     "output_type": "execute_result"
    }
   ],
   "source": [
    "youtube_coinchange(11,[1,3,5])"
   ]
  },
  {
   "cell_type": "markdown",
   "id": "e44f3528",
   "metadata": {},
   "source": [
    "Definitely rewatch that video if you need a refresher--the hand-written explanation of the math is very helpful"
   ]
  },
  {
   "cell_type": "code",
   "execution_count": 10,
   "id": "5553dbc4",
   "metadata": {},
   "outputs": [],
   "source": [
    "def literally_my_changecoin(total, denoms):\n",
    "    nums = [float('inf') for x in range(total+1)]\n",
    "    nums[0] = 0\n",
    "    for denom in denoms:\n",
    "        for amount in range(len(nums)):\n",
    "            if denom <= amount:\n",
    "                nums[amount] = min(nums[amount], 1+nums[amount-denom])\n",
    "    return nums[total] if nums[total] != float('inf') else -1\n",
    "\n",
    "# you had the lists index wrong, needed to be nums[total]"
   ]
  },
  {
   "cell_type": "code",
   "execution_count": 11,
   "id": "40374805",
   "metadata": {},
   "outputs": [
    {
     "data": {
      "text/plain": [
       "18"
      ]
     },
     "execution_count": 11,
     "metadata": {},
     "output_type": "execute_result"
    }
   ],
   "source": [
    "literally_my_changecoin(88,[1,3,5])"
   ]
  },
  {
   "cell_type": "code",
   "execution_count": null,
   "id": "51ef94de",
   "metadata": {},
   "outputs": [],
   "source": []
  },
  {
   "cell_type": "code",
   "execution_count": null,
   "id": "d39234e0",
   "metadata": {},
   "outputs": [],
   "source": []
  },
  {
   "cell_type": "code",
   "execution_count": null,
   "id": "b61c3a86",
   "metadata": {},
   "outputs": [],
   "source": []
  },
  {
   "cell_type": "code",
   "execution_count": null,
   "id": "34d3b970",
   "metadata": {},
   "outputs": [],
   "source": []
  },
  {
   "cell_type": "code",
   "execution_count": null,
   "id": "5f1f5a0d",
   "metadata": {},
   "outputs": [],
   "source": []
  },
  {
   "cell_type": "code",
   "execution_count": null,
   "id": "0aa6c69d",
   "metadata": {},
   "outputs": [],
   "source": []
  },
  {
   "cell_type": "code",
   "execution_count": null,
   "id": "78e8bde5",
   "metadata": {},
   "outputs": [],
   "source": []
  },
  {
   "cell_type": "code",
   "execution_count": null,
   "id": "6e7e5914",
   "metadata": {},
   "outputs": [],
   "source": []
  },
  {
   "cell_type": "code",
   "execution_count": null,
   "id": "477878a4",
   "metadata": {},
   "outputs": [],
   "source": []
  },
  {
   "cell_type": "code",
   "execution_count": null,
   "id": "e221494c",
   "metadata": {},
   "outputs": [],
   "source": []
  },
  {
   "cell_type": "code",
   "execution_count": 12,
   "id": "8606a104",
   "metadata": {},
   "outputs": [
    {
     "ename": "SyntaxError",
     "evalue": "unexpected EOF while parsing (<ipython-input-12-488f9a950372>, line 2)",
     "output_type": "error",
     "traceback": [
      "\u001b[0;36m  File \u001b[0;32m\"<ipython-input-12-488f9a950372>\"\u001b[0;36m, line \u001b[0;32m2\u001b[0m\n\u001b[0;31m    \u001b[0m\n\u001b[0m    ^\u001b[0m\n\u001b[0;31mSyntaxError\u001b[0m\u001b[0;31m:\u001b[0m unexpected EOF while parsing\n"
     ]
    }
   ],
   "source": [
    "def more_change(total,denoms):\n",
    "    "
   ]
  }
 ],
 "metadata": {
  "kernelspec": {
   "display_name": "Python 3",
   "language": "python",
   "name": "python3"
  },
  "language_info": {
   "codemirror_mode": {
    "name": "ipython",
    "version": 3
   },
   "file_extension": ".py",
   "mimetype": "text/x-python",
   "name": "python",
   "nbconvert_exporter": "python",
   "pygments_lexer": "ipython3",
   "version": "3.8.8"
  }
 },
 "nbformat": 4,
 "nbformat_minor": 5
}

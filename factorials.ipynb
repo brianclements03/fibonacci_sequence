{
 "cells": [
  {
   "cell_type": "code",
   "execution_count": 1,
   "id": "89c6b7c8",
   "metadata": {},
   "outputs": [],
   "source": [
    "import pandas as pd\n",
    "import numpy as np"
   ]
  },
  {
   "cell_type": "code",
   "execution_count": 37,
   "id": "472c04b4",
   "metadata": {},
   "outputs": [],
   "source": [
    "def my_factorial(n):\n",
    "    assert n >= 0\n",
    "    if n == 0:\n",
    "        return 1\n",
    "    elif n == 1:\n",
    "        return 1\n",
    "    else:\n",
    "        for i in range (1,n):\n",
    "            return i*(i-1)\n",
    "#         return i"
   ]
  },
  {
   "cell_type": "code",
   "execution_count": 39,
   "id": "7144af7f",
   "metadata": {},
   "outputs": [
    {
     "data": {
      "text/plain": [
       "-2"
      ]
     },
     "execution_count": 39,
     "metadata": {},
     "output_type": "execute_result"
    }
   ],
   "source": [
    "my_factorial(4)"
   ]
  },
  {
   "cell_type": "markdown",
   "id": "fd3b81b2",
   "metadata": {},
   "source": [
    "## Good thrust, needs work"
   ]
  },
  {
   "cell_type": "code",
   "execution_count": 7,
   "id": "61e1d831",
   "metadata": {},
   "outputs": [
    {
     "data": {
      "text/plain": [
       "24"
      ]
     },
     "execution_count": 7,
     "metadata": {},
     "output_type": "execute_result"
    }
   ],
   "source": [
    "np.math.factorial(4)"
   ]
  },
  {
   "cell_type": "code",
   "execution_count": null,
   "id": "8b088a62",
   "metadata": {},
   "outputs": [],
   "source": []
  }
 ],
 "metadata": {
  "kernelspec": {
   "display_name": "Python 3",
   "language": "python",
   "name": "python3"
  },
  "language_info": {
   "codemirror_mode": {
    "name": "ipython",
    "version": 3
   },
   "file_extension": ".py",
   "mimetype": "text/x-python",
   "name": "python",
   "nbconvert_exporter": "python",
   "pygments_lexer": "ipython3",
   "version": "3.8.8"
  }
 },
 "nbformat": 4,
 "nbformat_minor": 5
}

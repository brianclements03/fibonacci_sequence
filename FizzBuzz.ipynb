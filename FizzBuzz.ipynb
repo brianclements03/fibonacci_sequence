{
 "cells": [
  {
   "cell_type": "code",
   "execution_count": 1,
   "id": "c7c01b27",
   "metadata": {},
   "outputs": [],
   "source": [
    "import numpy as np"
   ]
  },
  {
   "cell_type": "code",
   "execution_count": 2,
   "id": "a890e8f5",
   "metadata": {},
   "outputs": [
    {
     "data": {
      "text/plain": [
       "0"
      ]
     },
     "execution_count": 2,
     "metadata": {},
     "output_type": "execute_result"
    }
   ],
   "source": [
    "15 % 5"
   ]
  },
  {
   "cell_type": "code",
   "execution_count": 3,
   "id": "eadb3357",
   "metadata": {},
   "outputs": [
    {
     "data": {
      "text/plain": [
       "(1, 1, 0)"
      ]
     },
     "execution_count": 3,
     "metadata": {},
     "output_type": "execute_result"
    }
   ],
   "source": [
    "15%14, 15%2,15%1"
   ]
  },
  {
   "cell_type": "code",
   "execution_count": 4,
   "id": "798834b5",
   "metadata": {},
   "outputs": [],
   "source": [
    "def FizzBuzz():\n",
    "    for n in range(1,101):\n",
    "        if n % 5 == 0 and n % 3 == 0:\n",
    "            print('Fizzbuzz')\n",
    "            continue\n",
    "        if n % 5 == 0:\n",
    "            print('Fizz')\n",
    "            continue\n",
    "        if n % 3 == 0:\n",
    "            print('Buzz')\n",
    "            continue\n",
    "        else:\n",
    "            print(n)\n",
    "            "
   ]
  },
  {
   "cell_type": "code",
   "execution_count": 5,
   "id": "7e2fe447",
   "metadata": {},
   "outputs": [
    {
     "name": "stdout",
     "output_type": "stream",
     "text": [
      "1\n",
      "2\n",
      "Buzz\n",
      "4\n",
      "Fizz\n",
      "Buzz\n",
      "7\n",
      "8\n",
      "Buzz\n",
      "Fizz\n",
      "11\n",
      "Buzz\n",
      "13\n",
      "14\n",
      "Fizzbuzz\n",
      "16\n",
      "17\n",
      "Buzz\n",
      "19\n",
      "Fizz\n",
      "Buzz\n",
      "22\n",
      "23\n",
      "Buzz\n",
      "Fizz\n",
      "26\n",
      "Buzz\n",
      "28\n",
      "29\n",
      "Fizzbuzz\n",
      "31\n",
      "32\n",
      "Buzz\n",
      "34\n",
      "Fizz\n",
      "Buzz\n",
      "37\n",
      "38\n",
      "Buzz\n",
      "Fizz\n",
      "41\n",
      "Buzz\n",
      "43\n",
      "44\n",
      "Fizzbuzz\n",
      "46\n",
      "47\n",
      "Buzz\n",
      "49\n",
      "Fizz\n",
      "Buzz\n",
      "52\n",
      "53\n",
      "Buzz\n",
      "Fizz\n",
      "56\n",
      "Buzz\n",
      "58\n",
      "59\n",
      "Fizzbuzz\n",
      "61\n",
      "62\n",
      "Buzz\n",
      "64\n",
      "Fizz\n",
      "Buzz\n",
      "67\n",
      "68\n",
      "Buzz\n",
      "Fizz\n",
      "71\n",
      "Buzz\n",
      "73\n",
      "74\n",
      "Fizzbuzz\n",
      "76\n",
      "77\n",
      "Buzz\n",
      "79\n",
      "Fizz\n",
      "Buzz\n",
      "82\n",
      "83\n",
      "Buzz\n",
      "Fizz\n",
      "86\n",
      "Buzz\n",
      "88\n",
      "89\n",
      "Fizzbuzz\n",
      "91\n",
      "92\n",
      "Buzz\n",
      "94\n",
      "Fizz\n",
      "Buzz\n",
      "97\n",
      "98\n",
      "Buzz\n",
      "Fizz\n"
     ]
    }
   ],
   "source": [
    "FizzBuzz()"
   ]
  },
  {
   "cell_type": "markdown",
   "id": "ff661aa5",
   "metadata": {},
   "source": [
    "# as copied from your control_structures notebook in python_exercises"
   ]
  },
  {
   "cell_type": "code",
   "execution_count": 16,
   "id": "c3720a45",
   "metadata": {},
   "outputs": [],
   "source": [
    "def more_fizz():\n",
    "    for i in range(1,25):\n",
    "        if (i%5) == 0 and (i%3) == 0:\n",
    "            print('fizzbuzz')\n",
    "        elif (i%5) == 0:\n",
    "            print('buzz')\n",
    "        elif (i%3) == 0:\n",
    "            print('fizz')\n",
    "        else:\n",
    "            print(i)\n",
    "        "
   ]
  },
  {
   "cell_type": "code",
   "execution_count": 17,
   "id": "2138820a",
   "metadata": {},
   "outputs": [
    {
     "name": "stdout",
     "output_type": "stream",
     "text": [
      "1\n",
      "2\n",
      "fizz\n",
      "4\n",
      "buzz\n",
      "fizz\n",
      "7\n",
      "8\n",
      "fizz\n",
      "buzz\n",
      "11\n",
      "fizz\n",
      "13\n",
      "14\n",
      "fizzbuzz\n",
      "16\n",
      "17\n",
      "fizz\n",
      "19\n",
      "buzz\n",
      "fizz\n",
      "22\n",
      "23\n",
      "fizz\n"
     ]
    }
   ],
   "source": [
    "more_fizz()"
   ]
  },
  {
   "cell_type": "code",
   "execution_count": null,
   "id": "e880af3a",
   "metadata": {},
   "outputs": [],
   "source": []
  }
 ],
 "metadata": {
  "kernelspec": {
   "display_name": "Python 3",
   "language": "python",
   "name": "python3"
  },
  "language_info": {
   "codemirror_mode": {
    "name": "ipython",
    "version": 3
   },
   "file_extension": ".py",
   "mimetype": "text/x-python",
   "name": "python",
   "nbconvert_exporter": "python",
   "pygments_lexer": "ipython3",
   "version": "3.8.8"
  }
 },
 "nbformat": 4,
 "nbformat_minor": 5
}
